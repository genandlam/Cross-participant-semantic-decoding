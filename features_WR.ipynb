{
 "cells": [
  {
   "cell_type": "code",
   "execution_count": 17,
   "id": "5ea30019",
   "metadata": {},
   "outputs": [],
   "source": [
    "import os\n",
    "import json\n",
    "import numpy as np\n",
    "import config,consts,paths\n",
    "from decoding.utils_stim import get_wordseqs, get_roi_features\n",
    "from decoding.utils_resp import get_resp\n",
    "from encoding.DataSequence import DataSequence\n",
    "from encoding.util import make_delayed\n",
    "from encoding.ridge import bootstrap_ridge\n",
    "from utils import flatten_list, save_data\n"
   ]
  },
  {
   "cell_type": "markdown",
   "id": "803641c6",
   "metadata": {},
   "source": [
    "# Create reference data "
   ]
  },
  {
   "cell_type": "code",
   "execution_count": 18,
   "id": "d17c1ef0",
   "metadata": {},
   "outputs": [],
   "source": [
    "subject='UTS03'"
   ]
  },
  {
   "cell_type": "code",
   "execution_count": 19,
   "id": "9b68989d",
   "metadata": {},
   "outputs": [],
   "source": [
    "# load data\n",
    "stories = flatten_list(consts.STORIES)\n",
    "wordseqs = get_wordseqs(stories, \"story\")\n",
    "with open(os.path.join(config.DATA_TRAIN_DIR, \"ROIs\", f\"{subject}.json\"), \"r\") as f:\n",
    "    roi_voxels = json.load(f)"
   ]
  },
  {
   "cell_type": "code",
   "execution_count": 21,
   "id": "07d106f5",
   "metadata": {},
   "outputs": [],
   "source": [
    "# features\n",
    "resp_full = get_resp(subject, stories, \"story\", stack = True)\n",
    "resp_roi, tr_stats = get_roi_features(resp_full, roi_voxels, consts.ROI)\n",
    "del resp_full\n",
    "delresp = make_delayed(resp_roi, config.RESP_DELAYS)"
   ]
  },
  {
   "cell_type": "code",
   "execution_count": 22,
   "id": "72340e77",
   "metadata": {},
   "outputs": [],
   "source": [
    "# target\n",
    "rates = {}\n",
    "for story in stories:\n",
    "    ds = wordseqs[story]\n",
    "    words = DataSequence(np.ones(len(ds.data_times)), ds.split_inds, ds.data_times, ds.tr_times)\n",
    "    rates[story] = words.chunksums(\"lanczos\", window = 3)\n",
    "nz_rate = np.nan_to_num(np.concatenate([rates[story][5+config.STRIM:-config.STRIM] for story in stories], \n",
    "        axis = 0).reshape([-1, 1]))\n",
    "mean_rate = np.mean(nz_rate)\n",
    "rate = nz_rate - mean_rate"
   ]
  },
  {
   "cell_type": "code",
   "execution_count": 23,
   "id": "2da052bf",
   "metadata": {},
   "outputs": [],
   "source": [
    "save_location=os.path.join(paths.WR % subject)\n",
    "#(subject_dir, \"%s.hf5\" % stim)"
   ]
  },
  {
   "cell_type": "code",
   "execution_count": 24,
   "id": "29353344",
   "metadata": {},
   "outputs": [],
   "source": [
    "# estimate word rate model\n",
    "weights, _, _ = bootstrap_ridge(delresp, rate, alphas = config.ALPHAS_WR, nboots = config.NBOOTS, \n",
    "        chunklen = config.CHUNKLEN, use_corr = False, seed = 42)\n",
    "wr_decoder = dict(zip(['weights', 'mean', 'rois', 'stories', 'tr_stats'], \n",
    "        [weights, mean_rate, consts.ROI, stories, tr_stats]))\n",
    "save_data(os.path.join(paths.WR % subject), wr_decoder)"
   ]
  }
 ],
 "metadata": {
  "kernelspec": {
   "display_name": "naturalistic",
   "language": "python",
   "name": "python3"
  },
  "language_info": {
   "codemirror_mode": {
    "name": "ipython",
    "version": 3
   },
   "file_extension": ".py",
   "mimetype": "text/x-python",
   "name": "python",
   "nbconvert_exporter": "python",
   "pygments_lexer": "ipython3",
   "version": "3.12.2"
  }
 },
 "nbformat": 4,
 "nbformat_minor": 5
}
