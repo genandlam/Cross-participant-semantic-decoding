{
 "cells": [
  {
   "cell_type": "code",
   "execution_count": 1,
   "id": "a40d85f6",
   "metadata": {},
   "outputs": [
    {
     "name": "stderr",
     "output_type": "stream",
     "text": [
      "/opt/anaconda3/envs/naturalistic/lib/python3.12/site-packages/torch/__init__.py:1264: UserWarning: torch.set_default_tensor_type() is deprecated as of PyTorch 2.1, please use torch.set_default_dtype() and torch.set_default_device() as alternatives. (Triggered internally at /Users/runner/work/pytorch/pytorch/pytorch/torch/csrc/tensor/python_tensor.cpp:436.)\n",
      "  _C._set_default_tensor_type(t)\n"
     ]
    }
   ],
   "source": [
    "import os\n",
    "import json\n",
    "import argparse\n",
    "import numpy as np\n",
    "import config, consts, paths\n",
    "from decoding.GPT import GPT\n",
    "from decoding.utils_stim import get_stim\n",
    "from decoding.utils_resp import get_resp\n",
    "from decoding.StimulusModel import LMFeatures\n",
    "from encoding.ridge import ridge, bootstrap_ridge\n",
    "from utils import flatten_list, save_data"
   ]
  },
  {
   "cell_type": "code",
   "execution_count": 7,
   "id": "e15523a0",
   "metadata": {},
   "outputs": [],
   "source": [
    "subject='UTS03'"
   ]
  },
  {
   "cell_type": "code",
   "execution_count": 8,
   "id": "a282455f",
   "metadata": {},
   "outputs": [],
   "source": [
    "# load gpt\n",
    "stories = flatten_list(consts.STORIES)\n",
    "with open(os.path.join(config.DATA_LM_DIR, \"perceived\", \"vocab.json\"), \"r\") as f:\n",
    "    gpt_vocab = json.load(f)\n",
    "gpt = GPT(path = os.path.join(config.DATA_LM_DIR, \"perceived\", \"model\"), vocab = gpt_vocab)\n",
    "features = LMFeatures(model = gpt, layer = config.GPT_LAYER, context_words = config.GPT_WORDS)\n"
   ]
  },
  {
   "cell_type": "code",
   "execution_count": 9,
   "id": "fe157527",
   "metadata": {},
   "outputs": [],
   "source": [
    "# estimate noise model\n",
    "num_voxels = consts.NUM_VOXELS[subject]\n",
    "rstim, tr_stats, word_stats = get_stim(stories, \"story\", features)\n",
    "splits = np.array_split(range(num_voxels), 2)\n",
    "weights = np.zeros([rstim.shape[1], num_voxels])\n",
    "alphas = np.zeros(num_voxels)\n",
    "bscorrs = np.zeros([len(config.ALPHAS), num_voxels, config.NBOOTS])\n",
    "for split in splits:\n",
    "    rresp = get_resp(subject, stories, \"story\", voxels = split, stack = True)\n",
    "    weights[:, split], alphas[split], bscorrs[:, split, :] = bootstrap_ridge(rstim, rresp, alphas = config.ALPHAS, \n",
    "            nboots = config.NBOOTS, chunklen = config.CHUNKLEN, use_corr = False, seed = 42)        \n",
    "    del rresp\n",
    "bscorrs = bscorrs.mean(2).max(0)\n",
    "voxels = np.sort(np.argsort(bscorrs)[-config.VOXELS:])"
   ]
  },
  {
   "cell_type": "code",
   "execution_count": 10,
   "id": "34866682",
   "metadata": {},
   "outputs": [],
   "source": [
    "# estimate noise model\n",
    "stim_dict = {story : get_stim([story], \"story\", features, tr_stats = tr_stats) for story in stories}\n",
    "resp_dict = get_resp(subject, stories, \"story\", voxels = voxels, stack = False)\n",
    "noise_model = np.zeros([len(voxels), len(voxels)])\n",
    "for hstory in stories:\n",
    "    tstim, hstim = np.vstack([stim_dict[tstory] for tstory in stories if tstory != hstory]), stim_dict[hstory]\n",
    "    tresp, hresp = np.vstack([resp_dict[tstory] for tstory in stories if tstory != hstory]), resp_dict[hstory]\n",
    "    bs_weights = ridge(tstim, tresp, alphas[voxels])\n",
    "    resids = hresp - hstim.dot(bs_weights)\n",
    "    bs_noise_model = resids.T.dot(resids)\n",
    "    noise_model += bs_noise_model / np.diag(bs_noise_model).mean() / len(stories)\n",
    "del stim_dict, resp_dict"
   ]
  },
  {
   "cell_type": "code",
   "execution_count": 11,
   "id": "e796c91e",
   "metadata": {},
   "outputs": [],
   "source": [
    "save_location=os.path.join(paths.EM % subject)\n",
    "em = {}\n",
    "em[\"bscorrs\"] = bscorrs\n",
    "em[\"voxels\"] = voxels\n",
    "em[\"tr_stats\"] = tr_stats\n",
    "em[\"word_stats\"] = word_stats\n",
    "em[\"stories\"] = stories\n",
    "em[\"weights\"] = weights[:, voxels]\n",
    "em[\"noise_model\"] = noise_model\n",
    "save_data(save_location, em)"
   ]
  }
 ],
 "metadata": {
  "kernelspec": {
   "display_name": "naturalistic",
   "language": "python",
   "name": "python3"
  },
  "language_info": {
   "codemirror_mode": {
    "name": "ipython",
    "version": 3
   },
   "file_extension": ".py",
   "mimetype": "text/x-python",
   "name": "python",
   "nbconvert_exporter": "python",
   "pygments_lexer": "ipython3",
   "version": "3.12.2"
  }
 },
 "nbformat": 4,
 "nbformat_minor": 5
}
